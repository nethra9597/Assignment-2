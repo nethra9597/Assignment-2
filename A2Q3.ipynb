{
  "nbformat": 4,
  "nbformat_minor": 0,
  "metadata": {
    "colab": {
      "provenance": []
    },
    "kernelspec": {
      "name": "python3",
      "display_name": "Python 3"
    },
    "language_info": {
      "name": "python"
    }
  },
  "cells": [
    {
      "cell_type": "code",
      "execution_count": null,
      "metadata": {
        "id": "-pQqPj3w_Lgx"
      },
      "outputs": [],
      "source": [
        "from itertools import product\n",
        "import sys\n",
        "import math\n",
        "import pandas as pd\n",
        "\n",
        "def getBitReps(num, length):\n",
        "    format_string = '{:0' + str(length) +'b}'\n",
        "    bits = [int(x) for x in format_string.format(num)]\n",
        "    return bits\n",
        "\n",
        "def coin(n):\n",
        "    sample_space = []\n",
        "    if n > 3 or n < 1:\n",
        "      print(\"n is not in range\")\n",
        "      sys.exit(-1)\n",
        "    for num in range(int(math.pow(2, n))):\n",
        "      coinTossesForm = ['H' if bit else 'T' for bit in getBitReps(num, n)]\n",
        "      # print('Toss : ' + str(num+1) + \" : \" + str(coinTossesForm))\n",
        "      sample_space.append(coinTossesForm)\n",
        "    df = pd.DataFrame(sample_space, columns=['Toss'+str(i+1) for i in range(n)])\n",
        "      # print(*list(map('       '.join, product(*([\"HT\"]*n)))),sep='\\n')\n",
        "\n",
        "    return df\n"
      ]
    },
    {
      "cell_type": "code",
      "source": [
        "def getCoinToss_with_prob(n):\n",
        "  # Considering all choices have equal probablities\n",
        "  # Probabilities of each case would be (1/cardinality of sample space)\n",
        "\n",
        "  all_samples = coin(n)\n",
        "  total_num_samples = all_samples.shape[0]\n",
        "\n",
        "  #print(total_num_samples)\n",
        "\n",
        "  probs_col = [1/total_num_samples for i in range(total_num_samples)]\n",
        "\n",
        "  all_samples['Probabilities'] = probs_col\n",
        "  #df = pd.DataFrame(all_samples, columns=['Toss'+str(i+1) for i in range(n)'probs_col')\n",
        "  return all_samples\n",
        "\n",
        "if __name__ == \"__main__\":\n",
        "    print(getCoinToss_with_prob(3))\n"
      ],
      "metadata": {
        "colab": {
          "base_uri": "https://localhost:8080/"
        },
        "id": "2Akg4z_Q_O5d",
        "outputId": "faa2d974-25c0-4586-b04a-f8aaa7a04ad8"
      },
      "execution_count": 32,
      "outputs": [
        {
          "output_type": "stream",
          "name": "stdout",
          "text": [
            "  Toss1 Toss2 Toss3  Probabilities\n",
            "0     T     T     T          0.125\n",
            "1     T     T     H          0.125\n",
            "2     T     H     T          0.125\n",
            "3     T     H     H          0.125\n",
            "4     H     T     T          0.125\n",
            "5     H     T     H          0.125\n",
            "6     H     H     T          0.125\n",
            "7     H     H     H          0.125\n"
          ]
        }
      ]
    },
    {
      "cell_type": "code",
      "source": [
        "rolls = []\n",
        "def roll_many(n):\n",
        "    if n>3 or n<1:\n",
        "       print(\"n is not in range\")\n",
        "       sys.exit(-1)\n",
        "    for num in range(1, n+1):\n",
        "      #print('X'+str(n) ,end=' ')\n",
        "    #using list comprehension to formulate elements\n",
        "      temp = [list(range(1, 7)) for _ in range(n)]\n",
        "      res = list(product(*temp))\n",
        "      df=pd.DataFrame(res, columns=['X'+str(i+1) for i in range(n)])\n",
        "    return df   \n",
        "              \n",
        "    # print(*res, sep='\\n') \n",
        "    #     #ress.append(res)\n",
        "    #     #print(*ress, sep='\\n')\n"
      ],
      "metadata": {
        "id": "QD0XmPiq_O2F"
      },
      "execution_count": 40,
      "outputs": []
    },
    {
      "cell_type": "code",
      "source": [
        "roll_many(2)"
      ],
      "metadata": {
        "id": "z7AUxluBCNdX"
      },
      "execution_count": null,
      "outputs": []
    },
    {
      "cell_type": "code",
      "source": [
        "def getRollDice_with_prob(n):\n",
        "  # Considering all choices have equal probablities\n",
        "  # Probabilities of each case would be (1/cardinality of sample space)\n",
        "\n",
        "  all_samples = roll_many(n)\n",
        "  total_num_samples = all_samples.shape[0]\n",
        "\n",
        "  #print(total_num_samples)\n",
        "\n",
        "  probs_col = [1/total_num_samples for i in range(total_num_samples)]\n",
        "\n",
        "  all_samples['Probabilities'] = probs_col\n",
        "  #df = pd.DataFrame(all_samples, columns=['X'+str(i+1) for i in range(n)])\n",
        "  return all_samples\n",
        "\n",
        "if __name__ == \"__main__\":\n",
        "    print(getRollDice_with_prob(1))\n"
      ],
      "metadata": {
        "colab": {
          "base_uri": "https://localhost:8080/"
        },
        "id": "dhsfSQEa_Ozv",
        "outputId": "0e5fde66-461a-4348-9e7c-68f3ced748a4"
      },
      "execution_count": 48,
      "outputs": [
        {
          "output_type": "stream",
          "name": "stdout",
          "text": [
            "   X1  Probabilities\n",
            "0   1       0.166667\n",
            "1   2       0.166667\n",
            "2   3       0.166667\n",
            "3   4       0.166667\n",
            "4   5       0.166667\n",
            "5   6       0.166667\n"
          ]
        }
      ]
    },
    {
      "cell_type": "code",
      "source": [],
      "metadata": {
        "id": "QW-PLy4BFQEx"
      },
      "execution_count": null,
      "outputs": []
    },
    {
      "cell_type": "code",
      "source": [
        "def probspace(experiment,n):\n",
        "  if experiment == 'rolldice':\n",
        "    print(getRollDice_with_prob(n))\n",
        "  else:\n",
        "    print(getCoinToss_with_prob(n))\n"
      ],
      "metadata": {
        "id": "5ZWspi86_OxJ"
      },
      "execution_count": 45,
      "outputs": []
    },
    {
      "cell_type": "code",
      "source": [
        "probspace('rolldice',1)"
      ],
      "metadata": {
        "id": "x1jw4qSo_OuF",
        "colab": {
          "base_uri": "https://localhost:8080/"
        },
        "outputId": "9977c7ed-c2e0-4ae7-8d19-c2450880fc5f"
      },
      "execution_count": 49,
      "outputs": [
        {
          "output_type": "stream",
          "name": "stdout",
          "text": [
            "   X1  Probabilities\n",
            "0   1       0.166667\n",
            "1   2       0.166667\n",
            "2   3       0.166667\n",
            "3   4       0.166667\n",
            "4   5       0.166667\n",
            "5   6       0.166667\n"
          ]
        }
      ]
    },
    {
      "cell_type": "code",
      "source": [],
      "metadata": {
        "id": "bJp4_s5x_Orr"
      },
      "execution_count": null,
      "outputs": []
    },
    {
      "cell_type": "code",
      "source": [],
      "metadata": {
        "id": "AvgzriKu_Oov"
      },
      "execution_count": null,
      "outputs": []
    },
    {
      "cell_type": "code",
      "source": [],
      "metadata": {
        "id": "SCln8XQy_Oly"
      },
      "execution_count": null,
      "outputs": []
    },
    {
      "cell_type": "code",
      "source": [],
      "metadata": {
        "id": "cJ50KQPN_OjP"
      },
      "execution_count": null,
      "outputs": []
    }
  ]
}